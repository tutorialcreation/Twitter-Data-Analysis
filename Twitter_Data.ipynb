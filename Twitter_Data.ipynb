{
  "cells": [
    {
      "cell_type": "code",
      "execution_count": null,
      "metadata": {
        "id": "Bsjt9Bu0dszH"
      },
      "outputs": [],
      "source": [
        "import tweepy\n",
        "from tweepy.streaming import StreamListener\n",
        "from tweepy import OAuthHandler\n",
        "from tweepy import Stream\n",
        "from tweepy import API\n",
        "from tweepy import Cursor\n",
        "\n",
        "import pandas as pd\n",
        "import json\n",
        "import csv \n",
        "\n",
        "# to view all columns\n",
        "pd.set_option(\"display.max.columns\", None)"
      ]
    },
    {
      "cell_type": "code",
      "execution_count": null,
      "metadata": {
        "id": "TkBTCEkWdszR"
      },
      "outputs": [],
      "source": [
        "# credentials from https://apps.twitter.com/\n",
        "consumerKey = '#'\n",
        "consumerSecret = '#'\n",
        "accessToken = '#'\n",
        "accessTokenSecret = '#'\n",
        "\n",
        "auth = tweepy.OAuthHandler(consumerKey, consumerSecret)\n",
        "auth.set_access_token(accessToken, accessTokenSecret)\n",
        "\n",
        "api = tweepy.API(auth, wait_on_rate_limit=True)"
      ]
    },
    {
      "cell_type": "code",
      "execution_count": null,
      "metadata": {
        "colab": {
          "base_uri": "https://localhost:8080/"
        },
        "id": "1mAse35_dszY",
        "outputId": "110f7387-e966-46fb-e822-980fd3ffe8a2"
      },
      "outputs": [
        {
          "name": "stdout",
          "output_type": "stream",
          "text": [
            "Mounted at /content/drive\n"
          ]
        }
      ],
      "source": [
        "from google.colab import drive\n",
        "drive.mount('/content/drive')"
      ]
    },
    {
      "cell_type": "code",
      "execution_count": null,
      "metadata": {
        "colab": {
          "base_uri": "https://localhost:8080/"
        },
        "id": "UXkE7K7meo1q",
        "outputId": "b05a60d1-58db-4d64-de8b-7c92963ef03e"
      },
      "outputs": [
        {
          "name": "stdout",
          "output_type": "stream",
          "text": [
            "/content/drive/My Drive/Batch5_Twitter_Data\n"
          ]
        }
      ],
      "source": [
        "%cd /content/drive/My Drive/Batch5_Twitter_Data"
      ]
    },
    {
      "cell_type": "code",
      "execution_count": null,
      "metadata": {
        "id": "ls-32mW-dszg"
      },
      "outputs": [],
      "source": [
        "hashtags=[\"#inflation\", \"#fuelprice\", \"#fuelpricehike\", \"#fuelprices\", \"#fuelshortage\", \"#foodprice\", \"#oilprice\", \"#oilprices\", \"#cookingoilprice\",\n",
        "          \"#unemployment\", \"#unemploymentrate\", \"#economiccrisis\", \"#economichardship\"]"
      ]
    },
    {
      "cell_type": "code",
      "execution_count": null,
      "metadata": {
        "id": "E7j98DKDdszn"
      },
      "outputs": [],
      "source": [
        "# kenya, geocode=\"0.0236,37.9062,530km\"\n",
        "# south africa, geocode=\"-26.22081,28.03239,400km\"\n",
        "# nigeria, geocode=\"6.48937,3.37709,900km\"\n",
        "\n",
        "# Add gecode variable for country specific data and remove it for general data.\n",
        "names = []\n",
        "for hashtag in hashtags:\n",
        "    tweets = tweepy.Cursor(api.search, q = hashtag, wait_on_rate_limit=True).items(500) #iterating through 500 tweets for each hashtag\n",
        "    users = []\n",
        "    for status in tweets:\n",
        "        name = status.user.screen_name\n",
        "        t=status.text\n",
        "        users.append(name)\n",
        "    names.append(users)\n",
        "    \n",
        "screen_names = [y for x in names for y in x]"
      ]
    },
    {
      "cell_type": "code",
      "execution_count": null,
      "metadata": {
        "colab": {
          "base_uri": "https://localhost:8080/"
        },
        "id": "uNbo7acBdszu",
        "outputId": "0cb89e6f-019a-40fe-e5ce-9ed59c401fde"
      },
      "outputs": [
        {
          "name": "stdout",
          "output_type": "stream",
          "text": [
            "0\n",
            "0\n"
          ]
        }
      ],
      "source": [
        "# merge the lists\n",
        "names = screen_names\n",
        "print(len(names))\n",
        "\n",
        "# drop duplicates\n",
        "screen_names = list(dict.fromkeys(names))\n",
        "print(len(screen_names))"
      ]
    },
    {
      "cell_type": "code",
      "execution_count": null,
      "metadata": {
        "colab": {
          "base_uri": "https://localhost:8080/"
        },
        "id": "Sk7IVDH4dsz4",
        "outputId": "c8dff38f-8224-4d2a-998a-c3f0f999afb4"
      },
      "outputs": [
        {
          "data": {
            "text/plain": [
              "(111, 1)"
            ]
          },
          "execution_count": 95,
          "metadata": {},
          "output_type": "execute_result"
        }
      ],
      "source": [
        "df = pd.DataFrame({'names':screen_names})\n",
        "df.to_csv('data/Economic_Twitter_Data.csv')\n",
        "df.shape"
      ]
    },
    {
      "cell_type": "code",
      "execution_count": null,
      "metadata": {
        "id": "0IETEOs9ZcMS"
      },
      "outputs": [],
      "source": [
        "#Mining 500 tweets per user since january 2022\n",
        "\n",
        "def get_tweets(screen_names):\n",
        "  for name in screen_names:\n",
        "    #Saving the tweets to a json file. The name of the file changes depending on the data being collected\n",
        "\n",
        "    with open(\"Economic_Twitter_Data.json\", 'a') as f:     #open file first\n",
        "      tweets = tweepy.Cursor(api.user_timeline, screen_name = name, since = '2022-01-01', wait_on_rate_limit=True).items(500)\n",
        "      for tweet in tweets:\n",
        "        json.dump(tweet._json, f)  #dump each to file, f\n",
        "        f.write(\"\\n\")\n",
        "  return print('Done. The keys are: ', list(tweet._json.keys()))"
      ]
    },
    {
      "cell_type": "code",
      "execution_count": null,
      "metadata": {
        "colab": {
          "base_uri": "https://localhost:8080/"
        },
        "id": "cxd11HXHfEjM",
        "outputId": "2ff7b7a0-4cae-4e07-b906-72c4ea16f590"
      },
      "outputs": [
        {
          "name": "stdout",
          "output_type": "stream",
          "text": [
            "Done. The keys are:  ['created_at', 'id', 'id_str', 'text', 'truncated', 'entities', 'source', 'in_reply_to_status_id', 'in_reply_to_status_id_str', 'in_reply_to_user_id', 'in_reply_to_user_id_str', 'in_reply_to_screen_name', 'user', 'geo', 'coordinates', 'place', 'contributors', 'is_quote_status', 'retweet_count', 'favorite_count', 'favorited', 'retweeted', 'lang']\n"
          ]
        }
      ],
      "source": [
        "get_tweets(screen_names[0:111])"
      ]
    }
  ],
  "metadata": {
    "colab": {
      "collapsed_sections": [],
      "name": "Twitter-Data(Using Tweepy).ipynb",
      "provenance": []
    },
    "kernelspec": {
      "display_name": "Python 3",
      "language": "python",
      "name": "python3"
    },
    "language_info": {
      "codemirror_mode": {
        "name": "ipython",
        "version": 3
      },
      "file_extension": ".py",
      "mimetype": "text/x-python",
      "name": "python",
      "nbconvert_exporter": "python",
      "pygments_lexer": "ipython3",
      "version": "3.8.3"
    }
  },
  "nbformat": 4,
  "nbformat_minor": 0
}
